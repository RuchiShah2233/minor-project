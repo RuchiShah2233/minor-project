{
  "nbformat": 4,
  "nbformat_minor": 0,
  "metadata": {
    "colab": {
      "provenance": [],
      "gpuType": "T4",
      "include_colab_link": true
    },
    "kernelspec": {
      "name": "python3",
      "display_name": "Python 3"
    },
    "language_info": {
      "name": "python"
    },
    "accelerator": "GPU"
  },
  "cells": [
    {
      "cell_type": "markdown",
      "metadata": {
        "id": "view-in-github",
        "colab_type": "text"
      },
      "source": [
        "<a href=\"https://colab.research.google.com/github/RuchiShah2233/minor-project/blob/main/DataPrep.ipynb\" target=\"_parent\"><img src=\"https://colab.research.google.com/assets/colab-badge.svg\" alt=\"Open In Colab\"/></a>"
      ]
    },
    {
      "cell_type": "code",
      "source": [
        "!git clone https://github.com/javidh0/minor-project.git\n",
        "!pip install mediapipe"
      ],
      "metadata": {
        "colab": {
          "base_uri": "https://localhost:8080/"
        },
        "id": "SHIafH_4u4W4",
        "outputId": "fd6d6c2b-24f7-4983-97cb-44bd50507740"
      },
      "execution_count": null,
      "outputs": [
        {
          "output_type": "stream",
          "name": "stdout",
          "text": [
            "Cloning into 'minor-project'...\n",
            "remote: Enumerating objects: 101, done.\u001b[K\n",
            "remote: Counting objects: 100% (101/101), done.\u001b[K\n",
            "remote: Compressing objects: 100% (70/70), done.\u001b[K\n",
            "remote: Total 101 (delta 46), reused 78 (delta 28), pack-reused 0 (from 0)\u001b[K\n",
            "Receiving objects: 100% (101/101), 105.46 KiB | 10.55 MiB/s, done.\n",
            "Resolving deltas: 100% (46/46), done.\n",
            "Collecting mediapipe\n",
            "  Downloading mediapipe-0.10.18-cp310-cp310-manylinux_2_17_x86_64.manylinux2014_x86_64.whl.metadata (9.7 kB)\n",
            "Requirement already satisfied: absl-py in /usr/local/lib/python3.10/dist-packages (from mediapipe) (1.4.0)\n",
            "Requirement already satisfied: attrs>=19.1.0 in /usr/local/lib/python3.10/dist-packages (from mediapipe) (24.2.0)\n",
            "Requirement already satisfied: flatbuffers>=2.0 in /usr/local/lib/python3.10/dist-packages (from mediapipe) (24.3.25)\n",
            "Requirement already satisfied: jax in /usr/local/lib/python3.10/dist-packages (from mediapipe) (0.4.33)\n",
            "Requirement already satisfied: jaxlib in /usr/local/lib/python3.10/dist-packages (from mediapipe) (0.4.33)\n",
            "Requirement already satisfied: matplotlib in /usr/local/lib/python3.10/dist-packages (from mediapipe) (3.8.0)\n",
            "Requirement already satisfied: numpy<2 in /usr/local/lib/python3.10/dist-packages (from mediapipe) (1.26.4)\n",
            "Requirement already satisfied: opencv-contrib-python in /usr/local/lib/python3.10/dist-packages (from mediapipe) (4.10.0.84)\n",
            "Requirement already satisfied: protobuf<5,>=4.25.3 in /usr/local/lib/python3.10/dist-packages (from mediapipe) (4.25.5)\n",
            "Collecting sounddevice>=0.4.4 (from mediapipe)\n",
            "  Downloading sounddevice-0.5.1-py3-none-any.whl.metadata (1.4 kB)\n",
            "Requirement already satisfied: sentencepiece in /usr/local/lib/python3.10/dist-packages (from mediapipe) (0.2.0)\n",
            "Requirement already satisfied: CFFI>=1.0 in /usr/local/lib/python3.10/dist-packages (from sounddevice>=0.4.4->mediapipe) (1.17.1)\n",
            "Requirement already satisfied: ml-dtypes>=0.2.0 in /usr/local/lib/python3.10/dist-packages (from jax->mediapipe) (0.4.1)\n",
            "Requirement already satisfied: opt-einsum in /usr/local/lib/python3.10/dist-packages (from jax->mediapipe) (3.4.0)\n",
            "Requirement already satisfied: scipy>=1.10 in /usr/local/lib/python3.10/dist-packages (from jax->mediapipe) (1.13.1)\n",
            "Requirement already satisfied: contourpy>=1.0.1 in /usr/local/lib/python3.10/dist-packages (from matplotlib->mediapipe) (1.3.1)\n",
            "Requirement already satisfied: cycler>=0.10 in /usr/local/lib/python3.10/dist-packages (from matplotlib->mediapipe) (0.12.1)\n",
            "Requirement already satisfied: fonttools>=4.22.0 in /usr/local/lib/python3.10/dist-packages (from matplotlib->mediapipe) (4.54.1)\n",
            "Requirement already satisfied: kiwisolver>=1.0.1 in /usr/local/lib/python3.10/dist-packages (from matplotlib->mediapipe) (1.4.7)\n",
            "Requirement already satisfied: packaging>=20.0 in /usr/local/lib/python3.10/dist-packages (from matplotlib->mediapipe) (24.2)\n",
            "Requirement already satisfied: pillow>=6.2.0 in /usr/local/lib/python3.10/dist-packages (from matplotlib->mediapipe) (11.0.0)\n",
            "Requirement already satisfied: pyparsing>=2.3.1 in /usr/local/lib/python3.10/dist-packages (from matplotlib->mediapipe) (3.2.0)\n",
            "Requirement already satisfied: python-dateutil>=2.7 in /usr/local/lib/python3.10/dist-packages (from matplotlib->mediapipe) (2.8.2)\n",
            "Requirement already satisfied: pycparser in /usr/local/lib/python3.10/dist-packages (from CFFI>=1.0->sounddevice>=0.4.4->mediapipe) (2.22)\n",
            "Requirement already satisfied: six>=1.5 in /usr/local/lib/python3.10/dist-packages (from python-dateutil>=2.7->matplotlib->mediapipe) (1.16.0)\n",
            "Downloading mediapipe-0.10.18-cp310-cp310-manylinux_2_17_x86_64.manylinux2014_x86_64.whl (36.1 MB)\n",
            "\u001b[2K   \u001b[90m━━━━━━━━━━━━━━━━━━━━━━━━━━━━━━━━━━━━━━━━\u001b[0m \u001b[32m36.1/36.1 MB\u001b[0m \u001b[31m14.5 MB/s\u001b[0m eta \u001b[36m0:00:00\u001b[0m\n",
            "\u001b[?25hDownloading sounddevice-0.5.1-py3-none-any.whl (32 kB)\n",
            "Installing collected packages: sounddevice, mediapipe\n",
            "Successfully installed mediapipe-0.10.18 sounddevice-0.5.1\n"
          ]
        }
      ]
    },
    {
      "cell_type": "code",
      "source": [
        "from google.colab import drive\n",
        "drive.mount('/content/drive')\n",
        "\n",
        "import sys\n",
        "sys.path.append('/content/minor-project')"
      ],
      "metadata": {
        "colab": {
          "base_uri": "https://localhost:8080/"
        },
        "id": "bv5ZZrgON_9F",
        "outputId": "027decb2-dcfb-4692-a4d4-1b5855ab6e8f"
      },
      "execution_count": null,
      "outputs": [
        {
          "output_type": "stream",
          "name": "stdout",
          "text": [
            "Mounted at /content/drive\n"
          ]
        }
      ]
    },
    {
      "cell_type": "code",
      "source": [
        "import os\n",
        "\n",
        "def get_folders(path):\n",
        "\n",
        "    folders = []\n",
        "    for entry in os.listdir(path):\n",
        "        if os.path.isdir(os.path.join(path, entry)):\n",
        "            folders.append(entry)\n",
        "    return folders\n",
        "\n",
        "videoLoc = []\n",
        "gtLoc = []\n",
        "\n",
        "root = \"/content/drive/MyDrive/minor_proj_datasets/DATASET_2/\"\n",
        "\n",
        "for dir in get_folders(root):\n",
        "  videoLoc.append(root+dir+\"/vid.avi\")\n",
        "  gtLoc.append(root+dir+\"/ground_truth.txt\")\n"
      ],
      "metadata": {
        "id": "yxwzpInKKw4O"
      },
      "execution_count": null,
      "outputs": []
    },
    {
      "cell_type": "code",
      "source": [
        "from FeatureProcessing.main import *\n",
        "from FeatureProcessing import roi\n",
        "\n",
        "import numpy as np\n",
        "import pandas as pd\n",
        "import matplotlib.pyplot as plt\n",
        "import pickle"
      ],
      "metadata": {
        "id": "m5ypyuu7IvMq"
      },
      "execution_count": null,
      "outputs": []
    },
    {
      "cell_type": "code",
      "source": [
        "i=0\n",
        "\n",
        "video = VideoFeature(videoLoc[i], gtLoc[i], roi.getROI, maxObjects = 4)\n",
        "video.readVideo()\n",
        "\n",
        "clrs = video.getColors(0)"
      ],
      "metadata": {
        "colab": {
          "base_uri": "https://localhost:8080/"
        },
        "id": "5eXEf9pg0ZQd",
        "outputId": "00fe883a-d168-4563-b81f-7fb1e72d05cf"
      },
      "execution_count": null,
      "outputs": [
        {
          "output_type": "stream",
          "name": "stdout",
          "text": [
            "Reading video.. /content/drive/MyDrive/minor_proj_datasets/DATASET_2/subject1/vid.avi \n"
          ]
        },
        {
          "output_type": "stream",
          "name": "stderr",
          "text": [
            "100%|██████████| 4/4 [00:11<00:00,  2.92s/it]"
          ]
        },
        {
          "output_type": "stream",
          "name": "stdout",
          "text": [
            "Total objects : 4\n"
          ]
        },
        {
          "output_type": "stream",
          "name": "stderr",
          "text": [
            "\n"
          ]
        }
      ]
    },
    {
      "cell_type": "code",
      "source": [
        "clrs = video.getColors(1)\n",
        "\n",
        "plt.plot(clrs[0] - 0.75, color='r')\n",
        "plt.plot(clrs[1], color='g')\n",
        "plt.plot(clrs[2], color='b')\n",
        "plt.plot(clrs[3], color='c')\n",
        "\n",
        "plt.xlabel(\"Frame Number\")\n",
        "plt.ylabel(\"Intensity\")\n",
        "\n",
        "plt.show()"
      ],
      "metadata": {
        "colab": {
          "base_uri": "https://localhost:8080/",
          "height": 449
        },
        "id": "pnFLw3Zh0osZ",
        "outputId": "847b9453-7d41-4576-ff7d-9ed8e081cacd"
      },
      "execution_count": null,
      "outputs": [
        {
          "output_type": "display_data",
          "data": {
            "text/plain": [
              "<Figure size 640x480 with 1 Axes>"
            ],
            "image/png": "[encoded data removed]"
          },
          "metadata": {}
        }
      ]
    },
    {
      "cell_type": "code",
      "source": [
        "from google.colab.patches import cv2_imshow\n",
        "\n",
        "chrom = ChormFeatures(video)\n",
        "chrom.buildCHROM()\n",
        "\n",
        "feat = chrom.getFeatureImage()\n",
        "cv2_imshow(feat[0][0])\n",
        "cv2_imshow(feat[1][0])\n",
        "cv2_imshow(feat[2][0])\n",
        "cv2_imshow(feat[3][0])"
      ],
      "metadata": {
        "colab": {
          "base_uri": "https://localhost:8080/",
          "height": 273
        },
        "id": "VM1Evujr4NKw",
        "outputId": "8c35455b-aa31-402e-ebab-04c8d6a65f5c"
      },
      "execution_count": null,
      "outputs": [
        {
          "output_type": "display_data",
          "data": {
            "text/plain": [
              "<PIL.Image.Image image mode=RGB size=64x64>"
            ],
            "image/png": "[encoded data removed]",
            "image/jpeg": "[encoded data removed]"
          },
          "metadata": {}
        },
        {
          "output_type": "display_data",
          "data": {
            "text/plain": [
              "<PIL.Image.Image image mode=RGB size=64x64>"
            ],
            "image/png": "[encoded data removed]",
            "image/jpeg": "[encoded data removed]"
          },
          "metadata": {}
        },
        {
          "output_type": "display_data",
          "data": {
            "text/plain": [
              "<PIL.Image.Image image mode=RGB size=64x64>"
            ],
            "image/png": "[encoded data removed]",
            "image/jpeg": "[encoded data removed]"
          },
          "metadata": {}
        },
        {
          "output_type": "display_data",
          "data": {
            "text/plain": [
              "<PIL.Image.Image image mode=RGB size=64x64>"
            ],
            "image/png": "[encoded data removed]",
            "image/jpeg": "[encoded data removed]"
          },
          "metadata": {}
        }
      ]
    },
    {
      "cell_type": "code",
      "source": [
        "videosObjs = []\n",
        "chromObjs = []\n",
        "\n",
        "loc_root = \"/content/drive/MyDrive/rPPG_Processed_Dataset/\"\n",
        "\n",
        "for i in range(len(videoLoc)):\n",
        "  print(f\"processing video {i+1}/{len(videoLoc)}\")\n",
        "\n",
        "  video = VideoFeature(videoLoc[i], gtLoc[i], roi.getROI, maxObjects = MAX_OBJECTS)\n",
        "  video.readVideo()\n",
        "\n",
        "  videosObjs.append(video)\n",
        "\n",
        "  chrom = ChormFeatures(video)\n",
        "  chrom.buildCHROM()\n",
        "\n",
        "  chromObjs.append(chrom)\n",
        "\n",
        "with open(loc_root + 'videosObjs.pkl', 'wb') as file:\n",
        "    pickle.dump(videosObjs, file)\n",
        "\n",
        "with open(loc_root + 'chromObjs.pkl', 'wb') as file:\n",
        "    pickle.dump(chromObjs, file)"
      ],
      "metadata": {
        "colab": {
          "base_uri": "https://localhost:8080/"
        },
        "id": "AnBnkYskLiPD",
        "outputId": "af4e0db3-a598-4f4d-e9cd-c349fad2f296"
      },
      "execution_count": null,
      "outputs": [
        {
          "output_type": "stream",
          "name": "stdout",
          "text": [
            "processing video 1/42\n",
            "Reading video.. /content/drive/MyDrive/minor_proj_datasets/DATASET_2/subject1/vid.avi \n"
          ]
        },
        {
          "output_type": "stream",
          "name": "stderr",
          "text": [
            "1420it [01:22, 17.17it/s]\n"
          ]
        },
        {
          "output_type": "stream",
          "name": "stdout",
          "text": [
            "Total objects : 1420\n",
            "processing video 2/42\n",
            "Reading video.. /content/drive/MyDrive/minor_proj_datasets/DATASET_2/subject10/vid.avi \n"
          ]
        },
        {
          "output_type": "stream",
          "name": "stderr",
          "text": [
            "1897it [01:40, 18.86it/s]                          \n"
          ]
        },
        {
          "output_type": "stream",
          "name": "stdout",
          "text": [
            "Total objects : 1897\n",
            "processing video 3/42\n",
            "Reading video.. /content/drive/MyDrive/minor_proj_datasets/DATASET_2/subject11/vid.avi \n"
          ]
        },
        {
          "output_type": "stream",
          "name": "stderr",
          "text": [
            "1904it [01:37, 19.48it/s]                          \n"
          ]
        },
        {
          "output_type": "stream",
          "name": "stdout",
          "text": [
            "Total objects : 1904\n",
            "processing video 4/42\n",
            "Reading video.. /content/drive/MyDrive/minor_proj_datasets/DATASET_2/subject12/vid.avi \n"
          ]
        },
        {
          "output_type": "stream",
          "name": "stderr",
          "text": [
            "1862it [01:36, 19.34it/s]\n"
          ]
        },
        {
          "output_type": "stream",
          "name": "stdout",
          "text": [
            "Total objects : 1862\n",
            "processing video 5/42\n",
            "Reading video.. /content/drive/MyDrive/minor_proj_datasets/DATASET_2/subject13/vid.avi \n"
          ]
        },
        {
          "output_type": "stream",
          "name": "stderr",
          "text": [
            "1891it [01:41, 18.68it/s]                          \n"
          ]
        },
        {
          "output_type": "stream",
          "name": "stdout",
          "text": [
            "Total objects : 1891\n",
            "processing video 6/42\n",
            "Reading video.. /content/drive/MyDrive/minor_proj_datasets/DATASET_2/subject14/vid.avi \n"
          ]
        },
        {
          "output_type": "stream",
          "name": "stderr",
          "text": [
            "1866it [01:40, 18.48it/s]                          \n"
          ]
        },
        {
          "output_type": "stream",
          "name": "stdout",
          "text": [
            "Total objects : 1866\n",
            "processing video 7/42\n",
            "Reading video.. /content/drive/MyDrive/minor_proj_datasets/DATASET_2/subject15/vid.avi \n"
          ]
        },
        {
          "output_type": "stream",
          "name": "stderr",
          "text": [
            "1893it [01:42, 18.55it/s]\n"
          ]
        },
        {
          "output_type": "stream",
          "name": "stdout",
          "text": [
            "Total objects : 1893\n",
            "processing video 8/42\n",
            "Reading video.. /content/drive/MyDrive/minor_proj_datasets/DATASET_2/subject16/vid.avi \n"
          ]
        },
        {
          "output_type": "stream",
          "name": "stderr",
          "text": [
            "1923it [01:42, 18.83it/s]                          \n"
          ]
        },
        {
          "output_type": "stream",
          "name": "stdout",
          "text": [
            "Total objects : 1923\n",
            "processing video 9/42\n",
            "Reading video.. /content/drive/MyDrive/minor_proj_datasets/DATASET_2/subject17/vid.avi \n"
          ]
        },
        {
          "output_type": "stream",
          "name": "stderr",
          "text": [
            "100%|██████████| 1918/1918 [01:40<00:00, 19.17it/s]\n"
          ]
        },
        {
          "output_type": "stream",
          "name": "stdout",
          "text": [
            "Total objects : 1918\n",
            "processing video 10/42\n",
            "Reading video.. /content/drive/MyDrive/minor_proj_datasets/DATASET_2/subject18/vid.avi \n"
          ]
        },
        {
          "output_type": "stream",
          "name": "stderr",
          "text": [
            "1907it [01:40, 18.93it/s]\n"
          ]
        },
        {
          "output_type": "stream",
          "name": "stdout",
          "text": [
            "Total objects : 1907\n",
            "processing video 11/42\n",
            "Reading video.. /content/drive/MyDrive/minor_proj_datasets/DATASET_2/subject20/vid.avi \n"
          ]
        },
        {
          "output_type": "stream",
          "name": "stderr",
          "text": [
            "1889it [01:40, 18.77it/s]                          \n"
          ]
        },
        {
          "output_type": "stream",
          "name": "stdout",
          "text": [
            "Total objects : 1889\n",
            "processing video 12/42\n",
            "Reading video.. /content/drive/MyDrive/minor_proj_datasets/DATASET_2/subject22/vid.avi \n"
          ]
        },
        {
          "output_type": "stream",
          "name": "stderr",
          "text": [
            "1905it [01:44, 18.22it/s]                          \n"
          ]
        },
        {
          "output_type": "stream",
          "name": "stdout",
          "text": [
            "Total objects : 1905\n",
            "processing video 13/42\n",
            "Reading video.. /content/drive/MyDrive/minor_proj_datasets/DATASET_2/subject23/vid.avi \n"
          ]
        },
        {
          "output_type": "stream",
          "name": "stderr",
          "text": [
            "1831it [01:41, 18.08it/s]\n"
          ]
        },
        {
          "output_type": "stream",
          "name": "stdout",
          "text": [
            "Total objects : 1831\n",
            "processing video 14/42\n",
            "Reading video.. /content/drive/MyDrive/minor_proj_datasets/DATASET_2/subject24/vid.avi \n"
          ]
        },
        {
          "output_type": "stream",
          "name": "stderr",
          "text": [
            "1882it [01:43, 18.21it/s]\n"
          ]
        },
        {
          "output_type": "stream",
          "name": "stdout",
          "text": [
            "Total objects : 1882\n",
            "processing video 15/42\n",
            "Reading video.. /content/drive/MyDrive/minor_proj_datasets/DATASET_2/subject25/vid.avi \n"
          ]
        },
        {
          "output_type": "stream",
          "name": "stderr",
          "text": [
            "1321it [01:14, 17.74it/s]\n"
          ]
        },
        {
          "output_type": "stream",
          "name": "stdout",
          "text": [
            "Total objects : 1321\n",
            "processing video 16/42\n",
            "Reading video.. /content/drive/MyDrive/minor_proj_datasets/DATASET_2/subject26/vid.avi \n"
          ]
        },
        {
          "output_type": "stream",
          "name": "stderr",
          "text": [
            "1358it [01:17, 17.59it/s]                          \n"
          ]
        },
        {
          "output_type": "stream",
          "name": "stdout",
          "text": [
            "Total objects : 1358\n",
            "processing video 17/42\n",
            "Reading video.. /content/drive/MyDrive/minor_proj_datasets/DATASET_2/subject27/vid.avi \n"
          ]
        },
        {
          "output_type": "stream",
          "name": "stderr",
          "text": [
            "1304it [01:14, 17.52it/s]                          \n"
          ]
        },
        {
          "output_type": "stream",
          "name": "stdout",
          "text": [
            "Total objects : 1304\n",
            "processing video 18/42\n",
            "Reading video.. /content/drive/MyDrive/minor_proj_datasets/DATASET_2/subject3/vid.avi \n"
          ]
        },
        {
          "output_type": "stream",
          "name": "stderr",
          "text": [
            "1674it [01:31, 18.24it/s]                          \n"
          ]
        },
        {
          "output_type": "stream",
          "name": "stdout",
          "text": [
            "Total objects : 1674\n",
            "processing video 19/42\n",
            "Reading video.. /content/drive/MyDrive/minor_proj_datasets/DATASET_2/subject30/vid.avi \n"
          ]
        },
        {
          "output_type": "stream",
          "name": "stderr",
          "text": [
            "1901it [01:41, 18.69it/s]                          \n"
          ]
        },
        {
          "output_type": "stream",
          "name": "stdout",
          "text": [
            "Total objects : 1901\n",
            "processing video 20/42\n",
            "Reading video.. /content/drive/MyDrive/minor_proj_datasets/DATASET_2/subject31/vid.avi \n"
          ]
        },
        {
          "output_type": "stream",
          "name": "stderr",
          "text": [
            "1900it [01:41, 18.65it/s]                          \n"
          ]
        },
        {
          "output_type": "stream",
          "name": "stdout",
          "text": [
            "Total objects : 1900\n",
            "processing video 21/42\n",
            "Reading video.. /content/drive/MyDrive/minor_proj_datasets/DATASET_2/subject32/vid.avi \n"
          ]
        },
        {
          "output_type": "stream",
          "name": "stderr",
          "text": [
            "1906it [01:42, 18.57it/s]                          \n"
          ]
        },
        {
          "output_type": "stream",
          "name": "stdout",
          "text": [
            "Total objects : 1906\n",
            "processing video 22/42\n",
            "Reading video.. /content/drive/MyDrive/minor_proj_datasets/DATASET_2/subject33/vid.avi \n"
          ]
        },
        {
          "output_type": "stream",
          "name": "stderr",
          "text": [
            "1872it [01:40, 18.62it/s]                          \n"
          ]
        },
        {
          "output_type": "stream",
          "name": "stdout",
          "text": [
            "Total objects : 1872\n",
            "processing video 23/42\n",
            "Reading video.. /content/drive/MyDrive/minor_proj_datasets/DATASET_2/subject34/vid.avi \n"
          ]
        },
        {
          "output_type": "stream",
          "name": "stderr",
          "text": [
            "100%|██████████| 1907/1907 [01:43<00:00, 18.40it/s]\n"
          ]
        },
        {
          "output_type": "stream",
          "name": "stdout",
          "text": [
            "Total objects : 1907\n",
            "processing video 24/42\n",
            "Reading video.. /content/drive/MyDrive/minor_proj_datasets/DATASET_2/subject35/vid.avi \n"
          ]
        },
        {
          "output_type": "stream",
          "name": "stderr",
          "text": [
            "1924it [01:42, 18.79it/s]\n"
          ]
        },
        {
          "output_type": "stream",
          "name": "stdout",
          "text": [
            "Total objects : 1924\n",
            "processing video 25/42\n",
            "Reading video.. /content/drive/MyDrive/minor_proj_datasets/DATASET_2/subject36/vid.avi \n"
          ]
        },
        {
          "output_type": "stream",
          "name": "stderr",
          "text": [
            "1925it [01:42, 18.70it/s]                          \n"
          ]
        },
        {
          "output_type": "stream",
          "name": "stdout",
          "text": [
            "Total objects : 1925\n",
            "processing video 26/42\n",
            "Reading video.. /content/drive/MyDrive/minor_proj_datasets/DATASET_2/subject37/vid.avi \n"
          ]
        },
        {
          "output_type": "stream",
          "name": "stderr",
          "text": [
            "1905it [01:44, 18.30it/s]\n"
          ]
        },
        {
          "output_type": "stream",
          "name": "stdout",
          "text": [
            "Total objects : 1905\n",
            "processing video 27/42\n",
            "Reading video.. /content/drive/MyDrive/minor_proj_datasets/DATASET_2/subject38/vid.avi \n"
          ]
        },
        {
          "output_type": "stream",
          "name": "stderr",
          "text": [
            "1923it [01:44, 18.42it/s]\n"
          ]
        },
        {
          "output_type": "stream",
          "name": "stdout",
          "text": [
            "Total objects : 1923\n",
            "processing video 28/42\n",
            "Reading video.. /content/drive/MyDrive/minor_proj_datasets/DATASET_2/subject39/vid.avi \n"
          ]
        },
        {
          "output_type": "stream",
          "name": "stderr",
          "text": [
            "1910it [01:43, 18.49it/s]                          \n"
          ]
        },
        {
          "output_type": "stream",
          "name": "stdout",
          "text": [
            "Total objects : 1910\n",
            "processing video 29/42\n",
            "Reading video.. /content/drive/MyDrive/minor_proj_datasets/DATASET_2/subject4/vid.avi \n"
          ]
        },
        {
          "output_type": "stream",
          "name": "stderr",
          "text": [
            "1241it [01:09, 17.87it/s]\n"
          ]
        },
        {
          "output_type": "stream",
          "name": "stdout",
          "text": [
            "Total objects : 1241\n",
            "processing video 30/42\n",
            "Reading video.. /content/drive/MyDrive/minor_proj_datasets/DATASET_2/subject40/vid.avi \n"
          ]
        },
        {
          "output_type": "stream",
          "name": "stderr",
          "text": [
            "1901it [01:42, 18.46it/s]\n"
          ]
        },
        {
          "output_type": "stream",
          "name": "stdout",
          "text": [
            "Total objects : 1901\n",
            "processing video 31/42\n",
            "Reading video.. /content/drive/MyDrive/minor_proj_datasets/DATASET_2/subject41/vid.avi \n"
          ]
        },
        {
          "output_type": "stream",
          "name": "stderr",
          "text": [
            "1910it [01:47, 17.82it/s]\n"
          ]
        },
        {
          "output_type": "stream",
          "name": "stdout",
          "text": [
            "Total objects : 1910\n",
            "processing video 32/42\n",
            "Reading video.. /content/drive/MyDrive/minor_proj_datasets/DATASET_2/subject42/vid.avi \n"
          ]
        },
        {
          "output_type": "stream",
          "name": "stderr",
          "text": [
            "1915it [01:46, 17.90it/s]\n"
          ]
        },
        {
          "output_type": "stream",
          "name": "stdout",
          "text": [
            "Total objects : 1915\n",
            "processing video 33/42\n",
            "Reading video.. /content/drive/MyDrive/minor_proj_datasets/DATASET_2/subject43/vid.avi \n"
          ]
        },
        {
          "output_type": "stream",
          "name": "stderr",
          "text": [
            "1882it [01:41, 18.47it/s]\n"
          ]
        },
        {
          "output_type": "stream",
          "name": "stdout",
          "text": [
            "Total objects : 1882\n",
            "processing video 34/42\n",
            "Reading video.. /content/drive/MyDrive/minor_proj_datasets/DATASET_2/subject44/vid.avi \n"
          ]
        },
        {
          "output_type": "stream",
          "name": "stderr",
          "text": [
            "1890it [01:49, 17.19it/s]                          \n"
          ]
        },
        {
          "output_type": "stream",
          "name": "stdout",
          "text": [
            "Total objects : 1890\n",
            "processing video 35/42\n",
            "Reading video.. /content/drive/MyDrive/minor_proj_datasets/DATASET_2/subject45/vid.avi \n"
          ]
        },
        {
          "output_type": "stream",
          "name": "stderr",
          "text": [
            "1905it [01:47, 17.75it/s]                          \n"
          ]
        },
        {
          "output_type": "stream",
          "name": "stdout",
          "text": [
            "Total objects : 1905\n",
            "processing video 36/42\n",
            "Reading video.. /content/drive/MyDrive/minor_proj_datasets/DATASET_2/subject46/vid.avi \n"
          ]
        },
        {
          "output_type": "stream",
          "name": "stderr",
          "text": [
            "1864it [01:46, 17.43it/s]                          \n"
          ]
        },
        {
          "output_type": "stream",
          "name": "stdout",
          "text": [
            "Total objects : 1864\n",
            "processing video 37/42\n",
            "Reading video.. /content/drive/MyDrive/minor_proj_datasets/DATASET_2/subject47/vid.avi \n"
          ]
        },
        {
          "output_type": "stream",
          "name": "stderr",
          "text": [
            "1896it [01:47, 17.69it/s]                          \n"
          ]
        },
        {
          "output_type": "stream",
          "name": "stdout",
          "text": [
            "Total objects : 1896\n",
            "processing video 38/42\n",
            "Reading video.. /content/drive/MyDrive/minor_proj_datasets/DATASET_2/subject48/vid.avi \n"
          ]
        },
        {
          "output_type": "stream",
          "name": "stderr",
          "text": [
            "1829it [01:43, 17.71it/s]                          \n"
          ]
        },
        {
          "output_type": "stream",
          "name": "stdout",
          "text": [
            "Total objects : 1829\n",
            "processing video 39/42\n",
            "Reading video.. /content/drive/MyDrive/minor_proj_datasets/DATASET_2/subject49/vid.avi \n"
          ]
        },
        {
          "output_type": "stream",
          "name": "stderr",
          "text": [
            "1907it [01:45, 18.01it/s]                          \n"
          ]
        },
        {
          "output_type": "stream",
          "name": "stdout",
          "text": [
            "Total objects : 1907\n",
            "processing video 40/42\n",
            "Reading video.. /content/drive/MyDrive/minor_proj_datasets/DATASET_2/subject5/vid.avi \n"
          ]
        },
        {
          "output_type": "stream",
          "name": "stderr",
          "text": [
            "1423it [01:23, 17.03it/s]\n"
          ]
        },
        {
          "output_type": "stream",
          "name": "stdout",
          "text": [
            "Total objects : 1423\n",
            "processing video 41/42\n",
            "Reading video.. /content/drive/MyDrive/minor_proj_datasets/DATASET_2/subject8/vid.avi \n"
          ]
        },
        {
          "output_type": "stream",
          "name": "stderr",
          "text": [
            "1895it [01:48, 17.47it/s]                          \n"
          ]
        },
        {
          "output_type": "stream",
          "name": "stdout",
          "text": [
            "Total objects : 1895\n",
            "processing video 42/42\n",
            "Reading video.. /content/drive/MyDrive/minor_proj_datasets/DATASET_2/subject9/vid.avi \n"
          ]
        },
        {
          "output_type": "stream",
          "name": "stderr",
          "text": [
            "1889it [01:46, 17.76it/s]\n"
          ]
        },
        {
          "output_type": "stream",
          "name": "stdout",
          "text": [
            "Total objects : 1889\n"
          ]
        }
      ]
    },
    {
      "cell_type": "code",
      "source": [
        "cnt = 0\n",
        "tot = 0\n",
        "for chorm in chromObjs:\n",
        "  feats = chorm.getFeatureImage()\n",
        "  for fea in feats:\n",
        "    tot += 1\n",
        "    if(fea[1].mode >= 240 or fea[1].mode <= 50):\n",
        "      cnt += 1\n",
        "\n",
        "print(\"defect\",cnt)\n",
        "print(\"defect %\",cnt/tot*100)\n",
        "print(\"total\",tot)\n",
        "print(\"total non-defect\",tot-cnt)"
      ],
      "metadata": {
        "id": "4kduZOKnJMDU",
        "colab": {
          "base_uri": "https://localhost:8080/"
        },
        "outputId": "cc423598-21cb-4e7d-808a-e55be992d9b8"
      },
      "execution_count": null,
      "outputs": [
        {
          "output_type": "stream",
          "name": "stdout",
          "text": [
            "defect 2044\n",
            "defect % 2.687175442056136\n",
            "total 76065\n",
            "total non-defect 74021\n"
          ]
        }
      ]
    },
    {
      "cell_type": "code",
      "source": [
        "videoLoc = []\n",
        "gtLoc = []\n",
        "\n",
        "root = \"/content/drive/MyDrive/minor_proj_datasets/DATASET_1/\"\n",
        "\n",
        "for dir in get_folders(root):\n",
        "  videoLoc.append(root+dir+\"/vid.avi\")\n",
        "  gtLoc.append(root+dir+\"/gtdump.xmp\")\n",
        "\n",
        "videosObjs = []\n",
        "chromObjs = []\n",
        "\n",
        "for i in range(len(videoLoc)):\n",
        "  print(f\"processing video {i}/{len(videoLoc)}\")\n",
        "\n",
        "  video = VideoFeature(videoLoc[i], gtLoc[i], roi.getROI, maxObjects = MAX_OBJECTS, isXmp = True)\n",
        "  video.readVideo()\n",
        "\n",
        "  videosObjs.append(video)\n",
        "\n",
        "  chrom = ChormFeatures(video)\n",
        "  chrom.buildCHROM()\n",
        "\n",
        "  chromObjs.append(chrom)\n",
        "\n",
        "with open(loc_root + 'videosObjsXmp.pkl', 'wb') as file:\n",
        "    pickle.dump(videosObjs, file)\n",
        "\n",
        "with open(loc_root + 'chromObjsXmp.pkl', 'wb') as file:\n",
        "    pickle.dump(chromObjs, file)"
      ],
      "metadata": {
        "id": "3rVqeA3PBpOy",
        "colab": {
          "base_uri": "https://localhost:8080/"
        },
        "outputId": "600a9983-bf72-45d0-bc8f-bd745028741b"
      },
      "execution_count": null,
      "outputs": [
        {
          "output_type": "stream",
          "name": "stdout",
          "text": [
            "processing video 0/8\n",
            "Reading video.. /content/drive/MyDrive/minor_proj_datasets/DATASET_1/10-gt/vid.avi \n"
          ]
        },
        {
          "output_type": "stream",
          "name": "stderr",
          "text": [
            "1099it [01:24, 12.98it/s]\n"
          ]
        },
        {
          "output_type": "stream",
          "name": "stdout",
          "text": [
            "Total objects : 1099\n",
            "processing video 1/8\n",
            "Reading video.. /content/drive/MyDrive/minor_proj_datasets/DATASET_1/11-gt/vid.avi \n"
          ]
        },
        {
          "output_type": "stream",
          "name": "stderr",
          "text": [
            "2173it [02:06, 17.17it/s]\n"
          ]
        },
        {
          "output_type": "stream",
          "name": "stdout",
          "text": [
            "Total objects : 2173\n",
            "processing video 2/8\n",
            "Reading video.. /content/drive/MyDrive/minor_proj_datasets/DATASET_1/12-gt/vid.avi \n"
          ]
        },
        {
          "output_type": "stream",
          "name": "stderr",
          "text": [
            "2261it [02:37, 14.32it/s]                          \n"
          ]
        },
        {
          "output_type": "stream",
          "name": "stdout",
          "text": [
            "Total objects : 2261\n",
            "processing video 3/8\n",
            "Reading video.. /content/drive/MyDrive/minor_proj_datasets/DATASET_1/5-gt/vid.avi \n"
          ]
        },
        {
          "output_type": "stream",
          "name": "stderr",
          "text": [
            " 55%|█████▍    | 1250/2281 [01:14<00:49, 20.94it/s]"
          ]
        }
      ]
    },
    {
      "cell_type": "code",
      "source": [
        "cnt = 0\n",
        "tot = 0\n",
        "for chorm in chromObjs:\n",
        "  feats = chorm.getFeatureImage()\n",
        "  for fea in feats:\n",
        "    tot += 1\n",
        "    if(fea[1].mode >= 240 or fea[1].mode <= 50):\n",
        "      print(fea[1].mode)\n",
        "      cnt += 1\n",
        "\n",
        "print(\"defect\",cnt)\n",
        "print(\"defect %\",cnt/tot*100)\n",
        "print(\"total\",tot)\n",
        "print(\"total non-defect\",tot-cnt)"
      ],
      "metadata": {
        "id": "aOmC5m81-T2O"
      },
      "execution_count": null,
      "outputs": []
    },
    {
      "cell_type": "code",
      "source": [
        "chromObj1 = pickle.load(open(loc_root+'chromObjs.pkl', 'rb'))\n",
        "with open(loc_root + 'chromObjsXmp (1).pkl', 'wb') as file:\n",
        "    pickle.dump(chromObjs, file)"
      ],
      "metadata": {
        "id": "CrkRTMF_cw4O"
      },
      "execution_count": null,
      "outputs": []
    },
    {
      "cell_type": "code",
      "source": [
        "chromObj1 = pickle.load(open('chromObjs.pkl', 'rb'))\n",
        "chromObj2 = pickle.load(open('chromObjsXmp.pkl', 'rb'))\n",
        "\n",
        "root = \"/content/drive/MyDrive/minor_proj_datasets/processed/\"\n",
        "\n",
        "with open(root+'chromObjs.pkl', 'wb') as file:\n",
        "    pickle.dump(chromObj1, file)\n",
        "\n",
        "with open(root+'chromObjsXmp.pkl', 'wb') as file:\n",
        "    pickle.dump(chromObj2, file)"
      ],
      "metadata": {
        "id": "j4p0TzxG-WmX"
      },
      "execution_count": null,
      "outputs": []
    },
    {
      "cell_type": "code",
      "source": [
        "root = \"/content/drive/MyDrive/minor_proj_datasets/\"\n",
        "\n",
        "with open('videosObjs.pkl', 'rb') as file:\n",
        "    videosObjs1 = pickle.load(file)\n",
        "\n",
        "with open('videosObjsXmp.pkl', 'rb') as file:\n",
        "    videosObjs2 = pickle.load(file)\n",
        "\n",
        "with open(root + 'videosObjs.pkl', 'wb') as file:\n",
        "    pickle.dump(videosObjs1, file)\n",
        "\n",
        "with open(root + 'videosObjsXmp.pkl', 'wb') as file:\n",
        "    pickle.dump(videosObjs2, file)"
      ],
      "metadata": {
        "id": "169SsbqcJjPr"
      },
      "execution_count": null,
      "outputs": []
    },
    {
      "cell_type": "code",
      "source": [],
      "metadata": {
        "id": "dHP9askZLmqr"
      },
      "execution_count": null,
      "outputs": []
    }
  ]
}